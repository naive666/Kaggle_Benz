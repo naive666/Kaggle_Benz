{
 "cells": [
  {
   "cell_type": "code",
   "execution_count": 1,
   "metadata": {
    "ExecuteTime": {
     "end_time": "2019-12-18T11:58:37.404983Z",
     "start_time": "2019-12-18T11:58:34.754743Z"
    }
   },
   "outputs": [],
   "source": [
    "import numpy as np\n",
    "import pandas as pd"
   ]
  },
  {
   "cell_type": "code",
   "execution_count": 42,
   "metadata": {
    "ExecuteTime": {
     "end_time": "2019-12-18T12:12:45.473414Z",
     "start_time": "2019-12-18T12:12:45.457790Z"
    }
   },
   "outputs": [],
   "source": [
    "feature_for_training = np.load('feature_for_training.npy')"
   ]
  },
  {
   "cell_type": "code",
   "execution_count": 43,
   "metadata": {
    "ExecuteTime": {
     "end_time": "2019-12-18T12:12:46.437025Z",
     "start_time": "2019-12-18T12:12:46.433037Z"
    }
   },
   "outputs": [],
   "source": [
    "feature_for_training_list = []\n",
    "for element in list(feature_for_training):\n",
    "    feature_for_training_list.append(int(element))"
   ]
  },
  {
   "cell_type": "code",
   "execution_count": 56,
   "metadata": {
    "ExecuteTime": {
     "end_time": "2019-12-18T12:24:21.891061Z",
     "start_time": "2019-12-18T12:24:21.746421Z"
    }
   },
   "outputs": [],
   "source": [
    "train = pd.read_csv('E:/kaggle/Benz/data/train.csv/train.csv')"
   ]
  },
  {
   "cell_type": "code",
   "execution_count": 45,
   "metadata": {
    "ExecuteTime": {
     "end_time": "2019-12-18T12:12:48.248904Z",
     "start_time": "2019-12-18T12:12:48.110273Z"
    }
   },
   "outputs": [],
   "source": [
    "test = pd.read_csv('E:/kaggle/Benz/data/test.csv/test.csv')"
   ]
  },
  {
   "cell_type": "code",
   "execution_count": 46,
   "metadata": {
    "ExecuteTime": {
     "end_time": "2019-12-18T12:12:49.009522Z",
     "start_time": "2019-12-18T12:12:48.990524Z"
    }
   },
   "outputs": [],
   "source": [
    "feats = np.array(train.columns.values[10:])"
   ]
  },
  {
   "cell_type": "code",
   "execution_count": 48,
   "metadata": {
    "ExecuteTime": {
     "end_time": "2019-12-18T12:12:53.077012Z",
     "start_time": "2019-12-18T12:12:53.057130Z"
    }
   },
   "outputs": [
    {
     "data": {
      "text/plain": [
       "array(['X314', 'X127', 'X261', 'X29', 'X54', 'X276', 'X311'], dtype=object)"
      ]
     },
     "execution_count": 48,
     "metadata": {},
     "output_type": "execute_result"
    }
   ],
   "source": [
    "feats[feature_for_training_list]"
   ]
  },
  {
   "cell_type": "code",
   "execution_count": 59,
   "metadata": {
    "ExecuteTime": {
     "end_time": "2019-12-18T12:25:13.772993Z",
     "start_time": "2019-12-18T12:25:13.754180Z"
    }
   },
   "outputs": [
    {
     "data": {
      "text/plain": [
       "Index(['ID', 'y', 'X0', 'X1', 'X2', 'X3', 'X4', 'X5', 'X6', 'X8'], dtype='object')"
      ]
     },
     "execution_count": 59,
     "metadata": {},
     "output_type": "execute_result"
    }
   ],
   "source": [
    "train.columns[:10]"
   ]
  },
  {
   "cell_type": "markdown",
   "metadata": {},
   "source": [
    "Use pd.factorize() to encoder the categorical features. One can also use labelencoder to get the same result"
   ]
  },
  {
   "cell_type": "code",
   "execution_count": 60,
   "metadata": {
    "ExecuteTime": {
     "end_time": "2019-12-18T12:25:31.555955Z",
     "start_time": "2019-12-18T12:25:31.539968Z"
    }
   },
   "outputs": [],
   "source": [
    "train['new_X0'] = pd.factorize(train['X0'])[0]\n",
    "train['new_X1'] = pd.factorize(train['X1'])[0]\n",
    "train['new_X2'] = pd.factorize(train['X2'])[0]\n",
    "train['new_X3'] = pd.factorize(train['X3'])[0]\n",
    "train['new_X4'] = pd.factorize(train['X4'])[0]\n",
    "train['new_X5'] = pd.factorize(train['X5'])[0]\n",
    "train['new_X6'] = pd.factorize(train['X6'])[0]\n",
    "train['new_X8'] = pd.factorize(train['X8'])[0]"
   ]
  },
  {
   "cell_type": "code",
   "execution_count": 63,
   "metadata": {
    "ExecuteTime": {
     "end_time": "2019-12-18T12:27:49.782874Z",
     "start_time": "2019-12-18T12:27:49.778885Z"
    }
   },
   "outputs": [],
   "source": [
    "training_features = list(feats[feature_for_training_list]) + ['new_X0', 'new_X1', 'new_X2', 'new_X3', 'new_X4', 'new_X5', 'new_X6', 'new_X8']"
   ]
  },
  {
   "cell_type": "code",
   "execution_count": 70,
   "metadata": {
    "ExecuteTime": {
     "end_time": "2019-12-18T12:38:44.344069Z",
     "start_time": "2019-12-18T12:38:44.339082Z"
    }
   },
   "outputs": [],
   "source": [
    "X_train = train[training_features]\n",
    "y_train = train['y']"
   ]
  },
  {
   "cell_type": "markdown",
   "metadata": {},
   "source": [
    "Use GridSearch to train Random Forest Regressor and XGBoost models"
   ]
  },
  {
   "cell_type": "code",
   "execution_count": 66,
   "metadata": {
    "ExecuteTime": {
     "end_time": "2019-12-18T12:35:01.689039Z",
     "start_time": "2019-12-18T12:35:01.670705Z"
    }
   },
   "outputs": [],
   "source": [
    "from sklearn.ensemble import RandomForestRegressor\n",
    "from sklearn.model_selection import GridSearchCV\n",
    "from sklearn.externals import joblib"
   ]
  },
  {
   "cell_type": "code",
   "execution_count": 78,
   "metadata": {
    "ExecuteTime": {
     "end_time": "2019-12-18T12:51:08.054135Z",
     "start_time": "2019-12-18T12:51:08.050145Z"
    }
   },
   "outputs": [],
   "source": [
    "RF_para_grid = {\n",
    "    'n_estimators' : [100, 200, 300, 400, 500],\n",
    "    'criterion' : ['mse'],\n",
    "    'max_depth' : [5,7,9],\n",
    "    'max_features' : ['auto', 7, 10, 13]\n",
    "}"
   ]
  },
  {
   "cell_type": "code",
   "execution_count": 72,
   "metadata": {
    "ExecuteTime": {
     "end_time": "2019-12-18T12:46:29.472847Z",
     "start_time": "2019-12-18T12:46:29.468857Z"
    }
   },
   "outputs": [],
   "source": [
    "import time"
   ]
  },
  {
   "cell_type": "code",
   "execution_count": 80,
   "metadata": {
    "ExecuteTime": {
     "end_time": "2019-12-18T13:05:56.181958Z",
     "start_time": "2019-12-18T13:05:07.407318Z"
    }
   },
   "outputs": [
    {
     "data": {
      "text/plain": [
       "['RF_BEST_MODEL20191218210556.pkl']"
      ]
     },
     "execution_count": 80,
     "metadata": {},
     "output_type": "execute_result"
    }
   ],
   "source": [
    "RFR = RandomForestRegressor(random_state = 42)\n",
    "RF_Grid = GridSearchCV(RFR, RF_para_grid, cv = 3, n_jobs = 5, scoring = 'r2')\n",
    "RF_Grid.fit(X_train, y_train)\n",
    "RF_model_result = pd.DataFrame(RF_Grid.cv_results_)\n",
    "RF_model_result.sort_values('rank_test_score', axis = 0, ascending = True, inplace = True)\n",
    "RF_model_result.to_csv('RF_MODEL_RESULT{}.csv'.format(time.strftime('%Y%m%d%H%M%S', time.localtime())))\n",
    "joblib.dump(RF_Grid.best_estimator_, 'RF_BEST_MODEL{}.pkl'.format(time.strftime('%Y%m%d%H%M%S', time.localtime())))"
   ]
  },
  {
   "cell_type": "code",
   "execution_count": 84,
   "metadata": {
    "ExecuteTime": {
     "end_time": "2019-12-18T13:21:44.233944Z",
     "start_time": "2019-12-18T13:21:44.228957Z"
    }
   },
   "outputs": [],
   "source": [
    "XGB_para_grid = {\n",
    "    'learning_rate' : [0.01, 0.05, 0.1],\n",
    "    'n_estimators' : [100, 200, 300, 400, 500, 700, 800],\n",
    "    'min_child_weight' : [8,9,11,12],\n",
    "    'max_depth' : [5,7,9,11],\n",
    "    'max_features' : ['auto', 7, 10, 13]\n",
    "}"
   ]
  },
  {
   "cell_type": "code",
   "execution_count": 85,
   "metadata": {
    "ExecuteTime": {
     "end_time": "2019-12-18T13:22:11.113629Z",
     "start_time": "2019-12-18T13:22:11.109610Z"
    }
   },
   "outputs": [],
   "source": [
    "from xgboost import XGBRegressor"
   ]
  },
  {
   "cell_type": "code",
   "execution_count": 86,
   "metadata": {
    "ExecuteTime": {
     "end_time": "2019-12-18T14:02:38.909439Z",
     "start_time": "2019-12-18T13:29:42.306638Z"
    }
   },
   "outputs": [
    {
     "name": "stderr",
     "output_type": "stream",
     "text": [
      "C:\\Users\\lenovo\\Anaconda3\\lib\\site-packages\\xgboost\\core.py:587: FutureWarning: Series.base is deprecated and will be removed in a future version\n",
      "  if getattr(data, 'base', None) is not None and \\\n",
      "C:\\Users\\lenovo\\Anaconda3\\lib\\site-packages\\xgboost\\core.py:588: FutureWarning: Series.base is deprecated and will be removed in a future version\n",
      "  data.base is not None and isinstance(data, np.ndarray) \\\n"
     ]
    },
    {
     "name": "stdout",
     "output_type": "stream",
     "text": [
      "[22:02:36] WARNING: C:/Jenkins/workspace/xgboost-win64_release_0.90/src/objective/regression_obj.cu:152: reg:linear is now deprecated in favor of reg:squarederror.\n"
     ]
    },
    {
     "ename": "AttributeError",
     "evalue": "module 'pandas' has no attribute 'DataFramea'",
     "output_type": "error",
     "traceback": [
      "\u001b[1;31m---------------------------------------------------------------------------\u001b[0m",
      "\u001b[1;31mAttributeError\u001b[0m                            Traceback (most recent call last)",
      "\u001b[1;32m<ipython-input-86-ae51b2efcfe1>\u001b[0m in \u001b[0;36m<module>\u001b[1;34m\u001b[0m\n\u001b[0;32m      2\u001b[0m \u001b[0mxgb_grid\u001b[0m \u001b[1;33m=\u001b[0m \u001b[0mGridSearchCV\u001b[0m\u001b[1;33m(\u001b[0m\u001b[0mxgb_classifier\u001b[0m\u001b[1;33m,\u001b[0m \u001b[0mXGB_para_grid\u001b[0m\u001b[1;33m,\u001b[0m \u001b[0mcv\u001b[0m \u001b[1;33m=\u001b[0m \u001b[1;36m3\u001b[0m\u001b[1;33m,\u001b[0m \u001b[0mn_jobs\u001b[0m \u001b[1;33m=\u001b[0m \u001b[1;36m5\u001b[0m\u001b[1;33m,\u001b[0m \u001b[0mscoring\u001b[0m \u001b[1;33m=\u001b[0m \u001b[1;34m'r2'\u001b[0m\u001b[1;33m)\u001b[0m\u001b[1;33m\u001b[0m\u001b[1;33m\u001b[0m\u001b[0m\n\u001b[0;32m      3\u001b[0m \u001b[0mxgb_grid\u001b[0m\u001b[1;33m.\u001b[0m\u001b[0mfit\u001b[0m\u001b[1;33m(\u001b[0m\u001b[0mX_train\u001b[0m\u001b[1;33m,\u001b[0m \u001b[0my_train\u001b[0m\u001b[1;33m)\u001b[0m\u001b[1;33m\u001b[0m\u001b[1;33m\u001b[0m\u001b[0m\n\u001b[1;32m----> 4\u001b[1;33m \u001b[0mxgb_result\u001b[0m \u001b[1;33m=\u001b[0m \u001b[0mpd\u001b[0m\u001b[1;33m.\u001b[0m\u001b[0mDataFramea\u001b[0m\u001b[1;33m(\u001b[0m\u001b[0mxgb_grid\u001b[0m\u001b[1;33m.\u001b[0m\u001b[0mcv_results_\u001b[0m\u001b[1;33m)\u001b[0m\u001b[1;33m\u001b[0m\u001b[1;33m\u001b[0m\u001b[0m\n\u001b[0m\u001b[0;32m      5\u001b[0m \u001b[0mxgb_result\u001b[0m\u001b[1;33m.\u001b[0m\u001b[0msort_values\u001b[0m\u001b[1;33m(\u001b[0m\u001b[1;34m'rank_test_score'\u001b[0m\u001b[1;33m,\u001b[0m \u001b[0maxis\u001b[0m \u001b[1;33m=\u001b[0m \u001b[1;36m0\u001b[0m\u001b[1;33m,\u001b[0m \u001b[0mascending\u001b[0m \u001b[1;33m=\u001b[0m \u001b[1;32mTrue\u001b[0m\u001b[1;33m,\u001b[0m \u001b[0minplace\u001b[0m \u001b[1;33m=\u001b[0m \u001b[1;32mTrue\u001b[0m\u001b[1;33m)\u001b[0m\u001b[1;33m\u001b[0m\u001b[1;33m\u001b[0m\u001b[0m\n\u001b[0;32m      6\u001b[0m \u001b[0mxgb_resul\u001b[0m\u001b[1;33m.\u001b[0m\u001b[0mto_csv\u001b[0m\u001b[1;33m(\u001b[0m\u001b[1;34m'XGB_MODEL_RESULT{}.csv'\u001b[0m\u001b[1;33m.\u001b[0m\u001b[0mformat\u001b[0m\u001b[1;33m(\u001b[0m\u001b[0mtime\u001b[0m\u001b[1;33m.\u001b[0m\u001b[0mstrftime\u001b[0m\u001b[1;33m(\u001b[0m\u001b[1;34m'%Y%m%d%H%M%S'\u001b[0m\u001b[1;33m,\u001b[0m \u001b[0mtime\u001b[0m\u001b[1;33m.\u001b[0m\u001b[0mlocaltime\u001b[0m\u001b[1;33m(\u001b[0m\u001b[1;33m)\u001b[0m\u001b[1;33m)\u001b[0m\u001b[1;33m)\u001b[0m\u001b[1;33m)\u001b[0m\u001b[1;33m\u001b[0m\u001b[1;33m\u001b[0m\u001b[0m\n",
      "\u001b[1;32m~\\Anaconda3\\lib\\site-packages\\pandas\\__init__.py\u001b[0m in \u001b[0;36m__getattr__\u001b[1;34m(name)\u001b[0m\n\u001b[0;32m    212\u001b[0m \u001b[1;33m\u001b[0m\u001b[0m\n\u001b[0;32m    213\u001b[0m             \u001b[1;32mreturn\u001b[0m \u001b[0mPanel\u001b[0m\u001b[1;33m\u001b[0m\u001b[1;33m\u001b[0m\u001b[0m\n\u001b[1;32m--> 214\u001b[1;33m         \u001b[1;32mraise\u001b[0m \u001b[0mAttributeError\u001b[0m\u001b[1;33m(\u001b[0m\u001b[1;34m\"module 'pandas' has no attribute '{}'\"\u001b[0m\u001b[1;33m.\u001b[0m\u001b[0mformat\u001b[0m\u001b[1;33m(\u001b[0m\u001b[0mname\u001b[0m\u001b[1;33m)\u001b[0m\u001b[1;33m)\u001b[0m\u001b[1;33m\u001b[0m\u001b[1;33m\u001b[0m\u001b[0m\n\u001b[0m\u001b[0;32m    215\u001b[0m \u001b[1;33m\u001b[0m\u001b[0m\n\u001b[0;32m    216\u001b[0m \u001b[1;33m\u001b[0m\u001b[0m\n",
      "\u001b[1;31mAttributeError\u001b[0m: module 'pandas' has no attribute 'DataFramea'"
     ]
    }
   ],
   "source": [
    "xgb_classifier = XGBRegressor(random_state = 42)\n",
    "xgb_grid = GridSearchCV(xgb_classifier, XGB_para_grid, cv = 3, n_jobs = 5, scoring = 'r2')\n",
    "xgb_grid.fit(X_train, y_train)"
   ]
  },
  {
   "cell_type": "code",
   "execution_count": 88,
   "metadata": {
    "ExecuteTime": {
     "end_time": "2019-12-18T14:07:35.919909Z",
     "start_time": "2019-12-18T14:07:35.865025Z"
    }
   },
   "outputs": [
    {
     "data": {
      "text/plain": [
       "['XGB_BEST_MODEL20191218220735.pkl']"
      ]
     },
     "execution_count": 88,
     "metadata": {},
     "output_type": "execute_result"
    }
   ],
   "source": [
    "xgb_result = pd.DataFrame(xgb_grid.cv_results_)\n",
    "xgb_result.sort_values('rank_test_score', axis = 0, ascending = True, inplace = True)\n",
    "xgb_result.to_csv('XGB_MODEL_RESULT{}.csv'.format(time.strftime('%Y%m%d%H%M%S', time.localtime())))\n",
    "joblib.dump(xgb_grid.best_estimator_, 'XGB_BEST_MODEL{}.pkl'.format(time.strftime('%Y%m%d%H%M%S', time.localtime())))"
   ]
  },
  {
   "cell_type": "code",
   "execution_count": 90,
   "metadata": {
    "ExecuteTime": {
     "end_time": "2019-12-18T14:12:27.349549Z",
     "start_time": "2019-12-18T14:12:27.334560Z"
    }
   },
   "outputs": [],
   "source": [
    "test['new_X0'] = pd.factorize(test['X0'])[0]\n",
    "test['new_X1'] = pd.factorize(test['X1'])[0]\n",
    "test['new_X2'] = pd.factorize(test['X2'])[0]\n",
    "test['new_X3'] = pd.factorize(test['X3'])[0]\n",
    "test['new_X4'] = pd.factorize(test['X4'])[0]\n",
    "test['new_X5'] = pd.factorize(test['X5'])[0]\n",
    "test['new_X6'] = pd.factorize(test['X6'])[0]\n",
    "test['new_X8'] = pd.factorize(test['X8'])[0]"
   ]
  },
  {
   "cell_type": "code",
   "execution_count": 92,
   "metadata": {
    "ExecuteTime": {
     "end_time": "2019-12-18T14:13:35.216136Z",
     "start_time": "2019-12-18T14:13:35.150339Z"
    }
   },
   "outputs": [],
   "source": [
    "prediction = RF_Grid.best_estimator_.predict(test[training_features])"
   ]
  },
  {
   "cell_type": "code",
   "execution_count": 94,
   "metadata": {
    "ExecuteTime": {
     "end_time": "2019-12-18T14:13:50.461423Z",
     "start_time": "2019-12-18T14:13:50.457433Z"
    }
   },
   "outputs": [
    {
     "data": {
      "text/plain": [
       "array([ 80.79769833,  97.09104226,  79.36496502, ...,  94.40245884,\n",
       "       110.39337287,  93.80873807])"
      ]
     },
     "execution_count": 94,
     "metadata": {},
     "output_type": "execute_result"
    }
   ],
   "source": [
    "prediction"
   ]
  },
  {
   "cell_type": "code",
   "execution_count": 96,
   "metadata": {
    "ExecuteTime": {
     "end_time": "2019-12-18T14:15:46.644863Z",
     "start_time": "2019-12-18T14:15:46.639876Z"
    }
   },
   "outputs": [],
   "source": [
    "test['y'] = pd.Series(prediction)"
   ]
  },
  {
   "cell_type": "code",
   "execution_count": 98,
   "metadata": {
    "ExecuteTime": {
     "end_time": "2019-12-18T14:16:43.674301Z",
     "start_time": "2019-12-18T14:16:43.650365Z"
    }
   },
   "outputs": [],
   "source": [
    "test[['ID','y']].to_csv('my_submission1.csv')"
   ]
  }
 ],
 "metadata": {
  "kernelspec": {
   "display_name": "Python 3",
   "language": "python",
   "name": "python3"
  },
  "language_info": {
   "codemirror_mode": {
    "name": "ipython",
    "version": 3
   },
   "file_extension": ".py",
   "mimetype": "text/x-python",
   "name": "python",
   "nbconvert_exporter": "python",
   "pygments_lexer": "ipython3",
   "version": "3.7.4"
  },
  "varInspector": {
   "cols": {
    "lenName": 16,
    "lenType": 16,
    "lenVar": 40
   },
   "kernels_config": {
    "python": {
     "delete_cmd_postfix": "",
     "delete_cmd_prefix": "del ",
     "library": "var_list.py",
     "varRefreshCmd": "print(var_dic_list())"
    },
    "r": {
     "delete_cmd_postfix": ") ",
     "delete_cmd_prefix": "rm(",
     "library": "var_list.r",
     "varRefreshCmd": "cat(var_dic_list()) "
    }
   },
   "types_to_exclude": [
    "module",
    "function",
    "builtin_function_or_method",
    "instance",
    "_Feature"
   ],
   "window_display": false
  }
 },
 "nbformat": 4,
 "nbformat_minor": 2
}
